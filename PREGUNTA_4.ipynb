{
  "nbformat": 4,
  "nbformat_minor": 0,
  "metadata": {
    "colab": {
      "provenance": [],
      "authorship_tag": "ABX9TyOs5GeX/EgqaNgl598TLAuy",
      "include_colab_link": true
    },
    "kernelspec": {
      "name": "python3",
      "display_name": "Python 3"
    },
    "language_info": {
      "name": "python"
    }
  },
  "cells": [
    {
      "cell_type": "markdown",
      "metadata": {
        "id": "view-in-github",
        "colab_type": "text"
      },
      "source": [
        "<a href=\"https://colab.research.google.com/github/NadiaCopello/Spatial_Analysis_of_Peru_Protected_Areas/blob/main/PREGUNTA_4.ipynb\" target=\"_parent\"><img src=\"https://colab.research.google.com/assets/colab-badge.svg\" alt=\"Open In Colab\"/></a>"
      ]
    },
    {
      "cell_type": "code",
      "execution_count": null,
      "metadata": {
        "colab": {
          "base_uri": "https://localhost:8080/"
        },
        "id": "mJTjZYrHihum",
        "outputId": "53dec839-be3b-4922-d6e3-b1b1c0e81394"
      },
      "outputs": [
        {
          "output_type": "stream",
          "name": "stdout",
          "text": [
            "\u001b[2K   \u001b[90m━━━━━━━━━━━━━━━━━━━━━━━━━━━━━━━━━━━━━━━━\u001b[0m \u001b[32m24.1/24.1 MB\u001b[0m \u001b[31m18.0 MB/s\u001b[0m eta \u001b[36m0:00:00\u001b[0m\n",
            "\u001b[?25h"
          ]
        }
      ],
      "source": [
        "#  Instalar dependencias\n",
        "!pip install openai PyMuPDF --quiet\n"
      ]
    },
    {
      "cell_type": "code",
      "source": [
        "# Instalar Librerías necesarias\n",
        "from openai import OpenAI\n",
        "import fitz  # PyMuPDF\n",
        "from getpass import getpass\n",
        "from google.colab import files\n"
      ],
      "metadata": {
        "id": "jEboB6eojFTa"
      },
      "execution_count": null,
      "outputs": []
    },
    {
      "cell_type": "code",
      "source": [
        "#  Subir archivo PDF\n",
        "print(\"📎 Sube tu articulo en PDF\")\n",
        "uploaded = files.upload()\n",
        "pdf_path = list(uploaded.keys())[0]\n"
      ],
      "metadata": {
        "colab": {
          "base_uri": "https://localhost:8080/",
          "height": 90
        },
        "id": "1eHBJHHUjO56",
        "outputId": "25e0a64e-fcd7-48f3-9741-c66cfb618d4a"
      },
      "execution_count": null,
      "outputs": [
        {
          "output_type": "stream",
          "name": "stdout",
          "text": [
            "📎 Sube tu articulo en PDF\n"
          ]
        },
        {
          "output_type": "display_data",
          "data": {
            "text/plain": [
              "<IPython.core.display.HTML object>"
            ],
            "text/html": [
              "\n",
              "     <input type=\"file\" id=\"files-a771fbd1-929c-44c7-9bd8-a164eea9e98a\" name=\"files[]\" multiple disabled\n",
              "        style=\"border:none\" />\n",
              "     <output id=\"result-a771fbd1-929c-44c7-9bd8-a164eea9e98a\">\n",
              "      Upload widget is only available when the cell has been executed in the\n",
              "      current browser session. Please rerun this cell to enable.\n",
              "      </output>\n",
              "      <script>// Copyright 2017 Google LLC\n",
              "//\n",
              "// Licensed under the Apache License, Version 2.0 (the \"License\");\n",
              "// you may not use this file except in compliance with the License.\n",
              "// You may obtain a copy of the License at\n",
              "//\n",
              "//      http://www.apache.org/licenses/LICENSE-2.0\n",
              "//\n",
              "// Unless required by applicable law or agreed to in writing, software\n",
              "// distributed under the License is distributed on an \"AS IS\" BASIS,\n",
              "// WITHOUT WARRANTIES OR CONDITIONS OF ANY KIND, either express or implied.\n",
              "// See the License for the specific language governing permissions and\n",
              "// limitations under the License.\n",
              "\n",
              "/**\n",
              " * @fileoverview Helpers for google.colab Python module.\n",
              " */\n",
              "(function(scope) {\n",
              "function span(text, styleAttributes = {}) {\n",
              "  const element = document.createElement('span');\n",
              "  element.textContent = text;\n",
              "  for (const key of Object.keys(styleAttributes)) {\n",
              "    element.style[key] = styleAttributes[key];\n",
              "  }\n",
              "  return element;\n",
              "}\n",
              "\n",
              "// Max number of bytes which will be uploaded at a time.\n",
              "const MAX_PAYLOAD_SIZE = 100 * 1024;\n",
              "\n",
              "function _uploadFiles(inputId, outputId) {\n",
              "  const steps = uploadFilesStep(inputId, outputId);\n",
              "  const outputElement = document.getElementById(outputId);\n",
              "  // Cache steps on the outputElement to make it available for the next call\n",
              "  // to uploadFilesContinue from Python.\n",
              "  outputElement.steps = steps;\n",
              "\n",
              "  return _uploadFilesContinue(outputId);\n",
              "}\n",
              "\n",
              "// This is roughly an async generator (not supported in the browser yet),\n",
              "// where there are multiple asynchronous steps and the Python side is going\n",
              "// to poll for completion of each step.\n",
              "// This uses a Promise to block the python side on completion of each step,\n",
              "// then passes the result of the previous step as the input to the next step.\n",
              "function _uploadFilesContinue(outputId) {\n",
              "  const outputElement = document.getElementById(outputId);\n",
              "  const steps = outputElement.steps;\n",
              "\n",
              "  const next = steps.next(outputElement.lastPromiseValue);\n",
              "  return Promise.resolve(next.value.promise).then((value) => {\n",
              "    // Cache the last promise value to make it available to the next\n",
              "    // step of the generator.\n",
              "    outputElement.lastPromiseValue = value;\n",
              "    return next.value.response;\n",
              "  });\n",
              "}\n",
              "\n",
              "/**\n",
              " * Generator function which is called between each async step of the upload\n",
              " * process.\n",
              " * @param {string} inputId Element ID of the input file picker element.\n",
              " * @param {string} outputId Element ID of the output display.\n",
              " * @return {!Iterable<!Object>} Iterable of next steps.\n",
              " */\n",
              "function* uploadFilesStep(inputId, outputId) {\n",
              "  const inputElement = document.getElementById(inputId);\n",
              "  inputElement.disabled = false;\n",
              "\n",
              "  const outputElement = document.getElementById(outputId);\n",
              "  outputElement.innerHTML = '';\n",
              "\n",
              "  const pickedPromise = new Promise((resolve) => {\n",
              "    inputElement.addEventListener('change', (e) => {\n",
              "      resolve(e.target.files);\n",
              "    });\n",
              "  });\n",
              "\n",
              "  const cancel = document.createElement('button');\n",
              "  inputElement.parentElement.appendChild(cancel);\n",
              "  cancel.textContent = 'Cancel upload';\n",
              "  const cancelPromise = new Promise((resolve) => {\n",
              "    cancel.onclick = () => {\n",
              "      resolve(null);\n",
              "    };\n",
              "  });\n",
              "\n",
              "  // Wait for the user to pick the files.\n",
              "  const files = yield {\n",
              "    promise: Promise.race([pickedPromise, cancelPromise]),\n",
              "    response: {\n",
              "      action: 'starting',\n",
              "    }\n",
              "  };\n",
              "\n",
              "  cancel.remove();\n",
              "\n",
              "  // Disable the input element since further picks are not allowed.\n",
              "  inputElement.disabled = true;\n",
              "\n",
              "  if (!files) {\n",
              "    return {\n",
              "      response: {\n",
              "        action: 'complete',\n",
              "      }\n",
              "    };\n",
              "  }\n",
              "\n",
              "  for (const file of files) {\n",
              "    const li = document.createElement('li');\n",
              "    li.append(span(file.name, {fontWeight: 'bold'}));\n",
              "    li.append(span(\n",
              "        `(${file.type || 'n/a'}) - ${file.size} bytes, ` +\n",
              "        `last modified: ${\n",
              "            file.lastModifiedDate ? file.lastModifiedDate.toLocaleDateString() :\n",
              "                                    'n/a'} - `));\n",
              "    const percent = span('0% done');\n",
              "    li.appendChild(percent);\n",
              "\n",
              "    outputElement.appendChild(li);\n",
              "\n",
              "    const fileDataPromise = new Promise((resolve) => {\n",
              "      const reader = new FileReader();\n",
              "      reader.onload = (e) => {\n",
              "        resolve(e.target.result);\n",
              "      };\n",
              "      reader.readAsArrayBuffer(file);\n",
              "    });\n",
              "    // Wait for the data to be ready.\n",
              "    let fileData = yield {\n",
              "      promise: fileDataPromise,\n",
              "      response: {\n",
              "        action: 'continue',\n",
              "      }\n",
              "    };\n",
              "\n",
              "    // Use a chunked sending to avoid message size limits. See b/62115660.\n",
              "    let position = 0;\n",
              "    do {\n",
              "      const length = Math.min(fileData.byteLength - position, MAX_PAYLOAD_SIZE);\n",
              "      const chunk = new Uint8Array(fileData, position, length);\n",
              "      position += length;\n",
              "\n",
              "      const base64 = btoa(String.fromCharCode.apply(null, chunk));\n",
              "      yield {\n",
              "        response: {\n",
              "          action: 'append',\n",
              "          file: file.name,\n",
              "          data: base64,\n",
              "        },\n",
              "      };\n",
              "\n",
              "      let percentDone = fileData.byteLength === 0 ?\n",
              "          100 :\n",
              "          Math.round((position / fileData.byteLength) * 100);\n",
              "      percent.textContent = `${percentDone}% done`;\n",
              "\n",
              "    } while (position < fileData.byteLength);\n",
              "  }\n",
              "\n",
              "  // All done.\n",
              "  yield {\n",
              "    response: {\n",
              "      action: 'complete',\n",
              "    }\n",
              "  };\n",
              "}\n",
              "\n",
              "scope.google = scope.google || {};\n",
              "scope.google.colab = scope.google.colab || {};\n",
              "scope.google.colab._files = {\n",
              "  _uploadFiles,\n",
              "  _uploadFilesContinue,\n",
              "};\n",
              "})(self);\n",
              "</script> "
            ]
          },
          "metadata": {}
        },
        {
          "output_type": "stream",
          "name": "stdout",
          "text": [
            "Saving IIGeo_24-47_002_Arevalo.pdf to IIGeo_24-47_002_Arevalo.pdf\n"
          ]
        }
      ]
    },
    {
      "cell_type": "code",
      "source": [
        "import unicodedata\n",
        "\n",
        "def limpiar_texto_ascii(texto):\n",
        "    \"\"\"Convierte texto a ASCII eliminando acentos, tildes, eñes, símbolos especiales, etc.\"\"\"\n",
        "    return unicodedata.normalize('NFKD', texto).encode('ascii', 'ignore').decode('ascii')\n"
      ],
      "metadata": {
        "id": "UzVkGrsppU_I"
      },
      "execution_count": null,
      "outputs": []
    },
    {
      "cell_type": "code",
      "source": [
        "import fitz  # PyMuPDF\n",
        "import re\n",
        "#  Extraer texto desde PDF\n",
        "def extraer_texto_pdf(ruta_pdf):\n",
        "    doc = fitz.open(ruta_pdf)\n",
        "    texto = \"\"\n",
        "    for pagina in doc:\n",
        "        texto += pagina.get_text()\n",
        "    doc.close()\n",
        "    return texto\n",
        "\n",
        "articulo_texto = extraer_texto_pdf(pdf_path)\n",
        "articulo_texto"
      ],
      "metadata": {
        "colab": {
          "base_uri": "https://localhost:8080/",
          "height": 123
        },
        "id": "Jw-7KwZLpYWK",
        "outputId": "3228e88c-960d-422d-cfaa-7a04ff9501d7"
      },
      "execution_count": null,
      "outputs": [
        {
          "output_type": "execute_result",
          "data": {
            "text/plain": [
              "'© Los autores. Este artículo es publicado por la Revista del Instituto de investigación de la Facultad de minas, metalurgia y ciencias \\ngeográficas de la Universidad Nacional Mayor de San Marcos. Este es un artículo de acceso abierto, distribuido bajo los términos de la \\nlicencia Creative Commons Atribución 4.0 Internacional (CC BY 4.0) [https://creativecommons.org/licenses/by/4.0/deed.es] que permite \\nel uso, distribución y reproducción en cualquier medio, siempre que la obra original sea debidamente citada de su fuente original. Para \\nmas información, por favor póngase en contacto con iigeo@unmsm.edu.pe\\nRev. Inst. investig. Fac. minas metal. cienc. geogr. vol 24 n° 47, 2021: 13 - 18\\t\\nISSN-L:1561-0888\\nCobertura arbórea y captura de dióxido de carbono en los \\nparques urbanos. Caso: Lima Norte\\nTree cover and carbone dioxide capture in urban parks case: Northern Lima\\nWalter Aparicio Arévalo Gómez 1 , Francisco Alejandro Alcántara Boza 2\\nRecibido: 14/10/2020 - Aprobado: 26/04/2021 – Publicado: 18/06/2021\\nRESUMEN\\nEn la presente investigación se tuvo como objetivo determinar la relación existente entre la cobertura arbórea y la captura de dióxido de carbono en \\nlos parques urbanos de Lima Norte. Para su desarrollo se diseñó una investigación con enfoque cuantitativo y tipo correlacional.\\nLa metodología utilizada consistió en trabajo de campo y trabajo remoto. Mediante el trabajo de campo se obtuvo información de la cobertura y \\nestructura arbórea de los parques y el trabajo remoto permitió determinar los volúmenes de CO2 capturado por los parques, este proceso se realizó \\nmediante el Software i-tree Canopy. La investigación fue realizada en Lima Norte, específicamente en los Distritos de Los Olivos, Comas, San Martín \\nde Porres e Independencia. Así mismo el análisis de correlación se realizó utilizando el coeficiente de Pearson.\\nLos resultados obtenidos, 0.994 correlación de Pearson, evidencian una relación positiva muy buena entre la cobertura arbórea y la captura de \\ncarbono de los parques del área de estudio, sin embargo, los valores obtenidos respecto al volumen de captura de dióxido de carbono (0.34 CO2/\\nm2-año) son muy bajos en comparación con los resultados de investigaciones realizadas en otras ciudades.\\nPalabras Claves: árbol, carbono; ciudad; parque; relación.\\nABSTRACT\\nThe objective of this research was to determine the relationship between tree cover and carbone dioxide capture in urban parks in Northern Lima.\\nFor its development, a research with a quantitative approach and correlational type was designed. \\nThe methodology used consisted of field work and remote work. Through the field work, information was obtained about the coverage and tree \\nstructure of the parks and the remote work allowed to determine the volumes of CO2 captured by the parks. This process was carried out through the \\nSoftware i- Tree Canopy. The research was carried out in northern Lima, specifically in the districts of Los Olivos, Comas, San Martín de Porres and \\nIndependencia. The correlation analysis was carried out using the Pearson coefficient.\\nThe results obtained, 0.994 Pearson correlation, show a particularly good positive relationship between tree cover and carbon capture of the parks \\nin the study area, however the values obtained regarding the volume of carbone dioxide capture (0.34 CO2/m2-año) are very low compared to the \\nresults of research conducted in other cities.\\nKeywords: carbone; city; park; relationship; tree.\\n1\\t Egresado del Programa de doctorado. Ciencias Ambientales – Universidad Nacional Mayor de San Marcos, Facultad de Ingeniería Geológica, Minera, \\nMetalúrgica y Geográfica. Lima, Perú. E-mail: warevalog@unmsm.edu.pe - ORCID: https://orcid.org/0000-0002-5738-7942\\n2\\t Docente de la Universidad Nacional Mayor de San Marcos, Facultad de Ingeniería Geológica, Minera, Metalúrgica y Geográfica. Lima, Perú. \\n\\t\\nE-mail: falcantarab@unmsm.edu.pe - ORCID: https://orcid.org/0000-0001-9127-4450\\nhttps://dx.doi.org/10.15381/iigeo.v24i47.20638\\nCobertura arbórea y captura de dióxido de carbono en los parques urbanos. Caso: Lima Norte\\nRev. Inst. investig. Fac. minas metal. cienc. geogr. 24(47) 2021\\n14 \\nI.\\t\\nINTRODUCCIÓN\\nUno de los objetivos del desarrollo sostenible es lograr la \\nsostenibilidad de las ciudades, dado que estas albergan a \\nmás de la mitad de la población del planeta, el 54% según \\nZucchetti & Freundt (2018). En ese proceso los parques \\nurbanos cumplen un rol importante, siempre y cuando \\nexista la cantidad suficiente y tengan la composición vegetal \\nadecuada. En el Perú las deficiencias de planificación \\nurbana han generado que la mayoría de las ciudades tengan \\ninsuficientes áreas verdes e inadecuada composición \\nde su cobertura arbórea, lo cual limita su funcionalidad \\nambiental. \\nLa cobertura arbórea se refiere a los individuos de las \\ndiversas especies de árboles que componen la vegetación \\nde un parque urbano y constituyen un porcentaje de la \\ndistribución de uso.\\nUna de las zonas de mayor crecimiento en las últimas \\ndécadas fue Lima norte, el mismo que se realizó con \\ndeficiencias de planificación ocasionado que no se destinen \\ncantidades adecuadas de áreas verdes, como es el caso de \\nlos distritos de: Puente Piedra (1.3m2/hab.), Independencia \\n(1.2 m2/hab.), San Martín de Porres (2.2m2/hab.), Los \\nOlivos (5.1m2/hab.) Comas (3.9m2/hab.) (INEI, 2015).\\nLima norte es además la zona con peores indicadores \\nde calidad del aire en material particulado. En la estación \\nde Carabayllo se encontró 1.85mg/cm2/mes de partículas \\nsedimentables lo cual sobrepasa en 370% lo recomendado \\npor la OMS y en partículas PM10 se encontró 166.51ug/m3 \\nel mismo que sobrepasa en 333% el Estándar de Calidad \\nAmbiental (ECA-aire) según la Dirección General de \\nSalud Ambiental  (MINSA-Ministerio de Salud de Perú, \\n2012).\\nLos parques urbanos constituyen el mayor porcentaje \\nde área verdes. Según Quispe (2017) en Lima, los parques \\nurbanos representan el 51% de las áreas verdes, por lo \\nque es importante el estudio de la composición de estos \\nespacios con fines de mejorar los procesos de gestión.\\nEl propósito principal de esta investigación es \\nmostrar la importancia de los árboles en la sostenibilidad \\nambiental de las ciudades, principalmente en la función de \\nregulación de la calidad del aire, para lograr el objetivo se \\nevaluó la relación que existe entre el grado de cobertura \\narbórea y la captura de carbono de los parques urbanos en \\nlos distritos de Los Olivos, San Martín de Porres, Comas \\ne Independencia. En esta publicación se presenta los \\nresultados de la investigación.\\nII.\\t METODOS \\nLa investigación fue de carácter aplicado y consistió en \\nel uso de instrumentos de campo para la obtención de \\ninformación del porcentaje y composición de la cobertura \\narbórea. Asimismo, se utilizó el Software i-tree Canopy \\npara la estimación del volumen de captura de carbono. \\nLa población de estudio estuvo conformada por \\nlos parques urbanos de los distritos de Los Olivos, San \\nMartín de Porres, Comas e Independencia. Para el estudio \\nse delimito un área que comprende aproximadamente el \\n10% de los parques e intersecta a los cuatro distritos de \\nestudio.\\nEl tamaño de muestra estuvo conformado por \\n32 parques establecidos de manera determinística, \\nconsiderando las diferencias en superficie y criterios de \\nmanejo de la vegetación por cada uno de los distritos (Ver \\nFigura 1). \\nPara la recolección de datos se utilizó las siguientes \\ntécnicas y procedimientos:\\nDeterminación de la cobertura arbórea: Se realizó \\nel inventario de los árboles mediante trabajo en campo, \\nutilizando un formato que consideró los siguientes \\naspectos: nombre científico y común de la especie, altura \\ndel árbol y cobertura de la copa. Asimismo, se levantó \\ninformación respecto a la distribución de uso espacial de \\nlos parques urbanos, para el cual se consideró los siguientes \\naspectos: área total del parque, área con cobertura arbórea, \\nárea con pavimento (loza deportiva, veredas, etc.), área de \\nsuelo desnudo. Estas áreas se determinaron con el uso de \\nGPS, wincha métrica y contrastada mediante la aplicación \\nGoogle Earth Pro.\\nEvaluación de la captura de carbono: La determinación \\nde la captura de los árboles de los parques se realizó de \\nmanera remota mediante el software “i-tree Canopy”, este \\nes una herramienta diseñada para estimar los beneficios de \\nárboles y otras clases de cobertura dentro de una ciudad, su \\naplicación consistió en las siguientes etapas.\\n1.\\t\\nDelimitación del área de los parques mediante \\nGoogle Earth.\\n2.\\t\\nConfiguración de los tipos de cobertura que se \\ndesea evaluar. en nuestro caso se consideró los \\nsiguientes tipos de cobertura: árbol, herbácea, \\narbusto, pavimento y suelo desnudo.\\n3.\\t\\nIdentificación y codificación de puntos en la \\nsuperficie del parque. Para mayor precisión de \\nlos resultados, se consideró la cobertura arbórea \\nobtenida en campo al aplicar el software.\\n4.\\t\\nDefinición de unidades y variables que se desea \\nevaluar, para esta investigación se consideró. \\nUnidades métricas, y los parámetros fueron \\ncaptura anual y acumulado de C y CO2.\\n5.\\t\\nObtención del reporte de C y CO2 capturado por \\nlos árboles de los parques.\\nEl procesamiento de la información se realizó \\nmediante el software Excel y para la determinación de \\nla correlación se utilizó el coeficiente de correlación de \\nPearson mediante el programa SPSS. Como hipótesis se \\nplanteó que la cobertura arbórea se relaciona de manera \\nsignificativa con la función de captura de carbono de los \\nparques de Lima Norte (Ver Figura 2). \\nArévalo & Alcántara\\nRev. Inst. investig. Fac. minas metal. cienc. geogr. 24(47) 2021\\n15\\n272000\\n272000\\n273000\\n273000\\n274000\\n274000\\n275000\\n275000\\n276000\\n276000\\n277000\\n277000\\n8673000\\n8673000\\n8674000\\n8674000\\n8675000\\n8675000\\n8676000\\n8676000\\n8677000\\n8677000\\n8678000\\n8678000\\n8679000\\n8679000\\n®\\n0\\n620\\n1,240\\n310\\nm\\nSAN MARTÍN \\nDE PORRES\\nLOS OLIVOS\\nCOMAS\\nLima\\nÁrea de\\nEstudio\\nCO-5\\nCO-3\\nCO-6\\nCO-2\\nCO-4\\nCO-7\\nCO-1\\nSM-3\\nCO-8\\nCO-9\\nLO-5\\nLO-6\\nLO-9\\nLO-3\\nLO-4\\nLO-7\\nSM-9\\nSM-4\\nSM-6\\nSM-5\\nSM-8\\nSM-7\\nSM-2\\nLO-8\\nSM-1\\nIN-2\\nIN-4\\nIN-1\\nIN-5\\nIN-3\\nLO-2\\nLO-1\\nINDEPENDENCIA\\nESTE\\nNORTE\\nESTE\\nNORTE\\nCO-1\\nSan Martín\\n275215\\n8678249\\nLO-3\\nCristo rey\\n274211\\n8674854\\nCO-2\\nMi pequeño mundo\\n275155\\n8678510\\nLO-4\\nRaimondi\\n273958\\n8674894\\nCO-3\\nSanta Luzmila\\n275309\\n8678879\\nLO-5\\nLaura Caller\\n273727\\n8675934\\nCO-4\\nVirgen del Carmen\\n275196\\n8678261\\nLO-6\\nVilla del Norte\\n274569\\n8675907\\nCO-5\\nVirgen de las Mercedes\\n275051\\n8678820\\nLO-7\\nCesar vallejo\\n273250\\n8674983\\nCO-6\\nSanta Rosa\\n275456\\n8678737\\nLO-8\\nLos Jazmines de Naranjal\\n273112\\n8674624\\nCO-7\\nBelén\\n275485\\n8678296\\nLO-9\\nSolidaridad\\n274795\\n8674899\\nCO-8\\nSeñor de los Milagros\\n275890\\n8678032\\nSM-1\\nParque N°1\\n273481\\n8674357\\nCO-9\\nLas Vegas\\n275868\\n8677682\\nSM-2\\nLas Magnolias\\n272868\\n8674893\\nIN-1\\nPachacútec\\n276053\\n8674596\\nSM-3\\nSanta Luisa\\n274923\\n8677906\\nIN-2\\nImperio\\n276044\\n8674732\\nSM-4\\nVirgen del Rosario\\n272421\\n8675001\\nIN-3\\nInti raymi\\n276288\\n8674319\\nSM-5\\nLa Gruta\\n272478\\n8674817\\nIN-4\\nLos Incas\\n276020\\n8674740\\nSM-6\\nUsteriz y Rivero\\n272882\\n8674903\\nIN-5\\nCultura Chavín\\n276045\\n8674394\\nSM-7\\nLos Jardines de Naranjal\\n272140\\n8674685\\nLO-1\\nMariátegui\\n274200\\n8672852\\nSM-8\\nManuel Scorza\\n271938\\n8674706\\nLO-2\\nTulipanes\\n274249\\n8673018\\nSM-9\\nEsvida\\n272505\\n8675238\\nCÓDIGO\\nCOORDENADAS\\nCÓDIGO\\nCOORDENADAS\\nNOMBRE\\nNOMBRE\\n \\nLEYENDA \\nParques caracterizados \\nParques muestreados \\nÁrea de estudio \\nFigura 1. Plano del área de estudio – Parques considerados en la muestra.\\nCobertura arbórea y captura de dióxido de carbono en los parques urbanos. Caso: Lima Norte\\nRev. Inst. investig. Fac. minas metal. cienc. geogr. 24(47) 2021\\n16 \\nIII.\\t RESULTADOS\\n3.1.\\tCaptura de dióxido de carbono de los parques \\nen función al porcentaje de árboles \\nLos volúmenes de captura de CO2  en los parques depende \\nde la estructura de la vegetación, principalmente de la \\npresencia de árboles, por su parte la captura de CO2 por los \\nárboles depende de: especie, tamaño, edad, DAP (diámetro \\na la altura del pecho), cobertura de la copa, estado de \\nconservación y manejo; la mayor parte de los parques \\ndel área de estudio cuentan con muy bajos porcentajes \\nde árboles, en gran medida los parques están cubiertos \\npor herbáceas y pavimento, principalmente por lozas \\ndeportivas, veredas y otras estructuras de concreto. Así \\nmismo la cobertura arbórea no cuenta con las especies. En \\nla siguiente tabla se muestran los valores correspondientes.\\nDe los valores encontrados en la Tabla 1, podemos \\nobservar que los mayores volúmenes de captura de CO2 \\npor año se da en el parque IN1 correspondiente al distrito \\nde Independencia con 0,774 kg CO2/m2- año seguido por el \\nparque IN4 del mismo distrito con 0,671 kg CO2/m2-año que \\nson los distritos que tienen mayores porcentajes de árboles en \\nsu distribución con 70% y 62% respectivamente. Asimismo, \\nel menor volumen de CO2 capturado corresponde al parque \\ncon código CO2 del distrito de Comas que es el que tiene \\nmenor porcentaje de árboles (12%). De los resultados se \\ntiene que el promedio de captura de los parques evaluados \\nes de 0.34 CO2/m2-año. Así mismo el valor acumulado de \\ncaptura de dióxido de carbono en la muestra alcanza a 72.89 \\ntoneladas de CO2 por hectárea.\\nDe la aplicación del coeficiente de Pearson se obtuvo \\nuna correlación de 0,994 como se observa en la Tabla 2, \\nlo cual indica que existe una correlación positiva muy \\nbuena entre la cobertura arbórea y la captura de CO2 de los \\nparques en Lima Norte. Así mismo se puede observar que \\nel grado de significancia 0,01 que demuestra alto grado de \\nconfiabilidad.\\nTabla 1. Porcentaje de cobertura arbórea y kilogramos de CO2 por año \\ncapturado en parques de Lima Norte\\nParque\\nArea del \\nParque\\n% Cobertura \\nArbórea\\nKgCO2/m2-año\\nkg CO2 \\nalmacenado\\nCO1\\n4900\\n54.00\\n0.591\\n72746.68\\nCO2\\n3100\\n12.00\\n0.136\\n10623.00\\nCO3\\n30300\\n14.00\\n0.169\\n128680.00\\nCO4\\n5800\\n54.00\\n0.570\\n83057.78\\nCO5\\n4900\\n28.00\\n0.305\\n37581.73\\nCO6\\n4000\\n14.00\\n0.163\\n16328.96\\nCO7\\n8200\\n17.00\\n0.191\\n39384.82\\nCO8\\n15000\\n12.00\\n0.147\\n55432.47\\nCO9\\n11900\\n36.00\\n0.392\\n116001.96\\nIN1\\n2500\\n70.00\\n0.774\\n48587.95\\nIN2\\n4000\\n20.00\\n0.230\\n23115.27\\nIN3\\n2000\\n18.00\\n0.198\\n9941.84\\nIN4\\n1700\\n62.00\\n0.671\\n28662.64\\nIN5\\n2850\\n29.00\\n0.320\\n22903.30\\nLO1\\n2800\\n50.00\\n0.563\\n39619.90\\nLO2\\n10100\\n13.00\\n0.140\\n35500.61\\nLO3\\n10000\\n39.00\\n0.450\\n112950.00\\nLO4\\n6000\\n22.00\\n0.311\\n46792.42\\nLO5\\n10000\\n41.00\\n0.444\\n111510.00\\nLO6\\n24000\\n9.00\\n0.173\\n104200.00\\nLO7\\n15100\\n28.00\\n0.300\\n113780.00\\nLO8\\n13700\\n12.00\\n0.161\\n55229.62\\nLO9\\n5500\\n28.00\\n0.316\\n43671.35\\nSM1\\n7000\\n51.00\\n0.557\\n97850.00\\nSM2\\n16700\\n18.00\\n0.201\\n126690.00\\nSM3\\n4000\\n47.00\\n0.530\\n53225.40\\nSM4\\n6000\\n27.00\\n0.292\\n43956.52\\nSM5\\n5000\\n23.00\\n0.291\\n36482.97\\nSM6\\n2500\\n20.00\\n0.233\\n14607.03\\nSM7\\n2400\\n21.00\\n0.239\\n14421.90\\nSM8\\n3000\\n50.00\\n0.586\\n44125.48\\nSM9\\n1200\\n22.00\\n0.221\\n6646.14\\nTotal\\n246150\\n0.340\\n1794306.74\\nFigura 2. Delimitación del área e identificación de coberturas mediante el software i-tree Canopy. Fuente: Tomado de la aplicación del software.\\nArévalo & Alcántara\\nRev. Inst. investig. Fac. minas metal. cienc. geogr. 24(47) 2021\\n17\\nTabla 2. Resultado del análisis de correlación\\n% Arboles/parque\\nkg CO2/m2- año\\n% Arboles/parque\\nCorrelación de Pearson\\n1\\n0,994**\\nSig. (bilateral)\\n,001\\nN\\n32\\n32\\nkg CO2/m2- año\\nCorrelación de Pearson\\n0,994**\\n1\\nSig. (bilateral)\\n0,001\\nN\\n32\\n32\\n**. La correlación es significativa en el nivel 0,01 (bilateral).\\nFigura 3. Diagrama de dispersión del % árboles y CO2/m2 en los parques de Lima Norte.\\n3.2.\\tDiagrama de Dispersión \\nAsí mismo se realizó el diagrama de dispersión y la \\necuación de la recta que representa a la relación existente \\nentre la cobertura vegetal y la captura de CO2/m2 por año \\nen los parques urbanos de los distritos de Lima Norte (Ver \\nFigura 3). \\nIV.\\t DISCUSIÓN \\nEl propósito de esta investigación, es mostrar la importancia \\nde la cobertura arbórea en una de las funciones ambientales \\ndel parque urbano como es la regulación de la calidad \\ndel aire mediante la captura de carbono, los resultados \\nobtenidos evidencian esa importancia mediante una alta \\nrelación positiva entre la cobertura vegetal y la función \\nde captura de dióxido de carbono por parte de los parques \\nen Lima Norte; sin embargo, la insuficiente cobertura de \\nárboles, la inadecuada composición florística, el clima \\ndesértico y el mal estado de la vegetación, determinan \\nvalores muy bajos de captación de dióxido de carbono con \\nun valor promedio de 0.33 kg-CO2/m2 en comparación con \\nlos valores encontrados por Domingez (2016), quien en los \\nparques de Tijuana México encontró un valor promedio de \\n3.5 kg-CO2/m2 para el año 2015. Respecto a los valores \\nacumulados o sumidero se estimó en 72.89 tn/ha. que \\nes superior a los 32 tn/ha de los parques de Latacunga \\ndeterminados por Reino Choto (2019).\\nLos resultados de las estimaciones de CO2 difieren en \\nfunción de las metodologías aplicadas, las metodologías \\nutilizadas varían desde las mediciones directas basadas \\nen ecuaciones alométricas o las mediciones remotas \\nbasadas en información satelital (Chaparro & Terrasdas, \\nCobertura arbórea y captura de dióxido de carbono en los parques urbanos. Caso: Lima Norte\\nRev. Inst. investig. Fac. minas metal. cienc. geogr. 24(47) 2021\\n18 \\n2009) para esta investigación se decidió utilizar un trabajo \\nmixto utilizando el trabajo de campo para determinar la \\ncobertura arbórea y el software i-tree Canopy para estimar \\nlos volúmenes de CO2. Por lo que se considera que los \\nresultados son confiables y pueden utilizarse para la toma \\nde decisiones como referencia para futuras investigaciones.\\nV.\\t CONCLUSIONES\\nDe la investigación se puede concluir que la vegetación \\narbórea es importante e influye de manera significativa en \\nla función de regulación de los parques urbanos, esto se \\nevidencia en la relación la relación positiva muy buena de \\n0,994 entre la cobertura de árboles y la captura de carbono \\nde los parques en Lima Norte.\\nLos volúmenes de captura acumulado 72.89 kg-CO2/\\nm2 y la captura por año 0.34 kg-CO2/m2\\n obtenidos son bajos \\nen comparación con valores encontrados en otras ciudades.\\nVI.\\t RECOMENDACIÓN\\nPara mejorar la funcionalidad de los parques en la \\nsostenibilidad de la ciudad se recomienda seleccionar \\nlas especies más adecuadas, considerando dos aspectos: \\nprimero la adaptabilidad a la escasez de agua en zonas \\náridas y segundo la contribución ecosistémica. Es decir, \\naquellas especies con menor requerimiento de agua, con \\nbuena cobertura arbórea y mayor volumen de captura \\nde CO2.  Según los datos de Brescia De Fort (2010)  y \\nDomingez (2016) las siguientes especies cumplen mejor \\nestos criterios: Schinus molle 182.6 kg CO2/año, Schinus \\nterebinthifolius 74.4 kg CO2/año, Grevillea robusta con \\n229.0 kg CO2/año, Eucalyptus globulus 162.3 kg CO2/año \\ny Ficus benjamina 63.9 kg CO2/año. \\nVII.\\tREFERENCIAS\\nBrescia De Fort, R. (2010). Paisajes verdes con poca agua. Jardines \\npara Lima y ciudades de regiones secas (Wust Ediciones \\n(ed.)). https://es.scribd.com/document/433514489/Paisajes-\\nVerdes-Con-Poca-Agua-Jardines-Para-Lima-y-Ciudades-\\nde-Regiones-Secas-Rosa-Brescia-de-Fort\\nChaparro, L., & Terrasdas, J. (2009). Ecological Services of Urban \\nForest in Barcelona. In Shengtai Xuebao/ Acta Ecologica \\nSinica (Vol. 29, Issue August). www.creaf.uab.cat\\nDomingez, A. (2016). Estimaciones de captura de los parques y \\nemiciones de CO2 vehicular en Tijuana, B.C. [Colegio de \\nla Frontera Norte (COLEF)]. In Centro de Investigación \\nCientífica y de Educación Superior de Ensenada (CICESE) \\n(Vol. 23, Issue 45). https://www.colef.mx/posgrado/wp-\\ncontent/uploads/2016/12/TESIS-Domínguez-Madrid-Ana-\\nYurendy.pdf\\nINEI. (2015). Perú Anuario de Estadísticas Ambientales. https://\\nwww.inei.gob.pe/media/MenuRecursivo/publicaciones_\\ndigitales/Est/Lib1342/libro.pdf\\nMINSA-Ministerio de Salud de Perú. (2012). Estudio de \\nsaturación Lima Metropolitana y Callao año 2011. In SINIA \\n- Sistema Nacional de Información Ambiental. https://\\nsinia.minam.gob.pe/documentos/estudio-saturacion-lima-\\nmetropolitana-callao-ano-2011\\nQuispe, E. (2017). Situación de las áreas verdes urbanas en \\nLima Metropolitana. Universidad Nacional Agraria La \\nMolina, 1–62. http://repositorio.lamolina.edu.pe/handle/\\nUNALM/2990\\nReino Choto, D. X. (2019). Estimación de los servicios \\necosistémicos de regulación (captura de carbono) en los \\nParques de la Ciudad de Latacunga [Universidad Técnica \\nde Cotopaxi]. In Facultad de Ciencias Agropecuarias \\ny \\nRecursos \\nNaturales. \\nhttp://repositorio.utc.edu.ec/\\nhandle/27000/5944\\nZucchetti, A., & Freundt, D. (2018). Ciudades Del Perú - Primer \\nReporte Nacional de Indicadores Urbanos 2018 - con un \\nenfoque de sostenibilidad y resiliencia. In Primer reporte \\nNacional de Indicadores Urbanos. https://d2ouvy59p0dg6k.\\ncloudfront.net/downloads/ciudades_sostenibles_1.pdf\\n'"
            ],
            "application/vnd.google.colaboratory.intrinsic+json": {
              "type": "string"
            }
          },
          "metadata": {},
          "execution_count": 11
        }
      ]
    },
    {
      "cell_type": "code",
      "source": [
        "print(f\"Texto extraído (primeros 500 caracteres):\\n{articulo_texto[:500]}\")\n"
      ],
      "metadata": {
        "colab": {
          "base_uri": "https://localhost:8080/"
        },
        "id": "R8bHbOtMvql-",
        "outputId": "6c50d498-f953-4828-c6dc-59c826ec98bc"
      },
      "execution_count": null,
      "outputs": [
        {
          "output_type": "stream",
          "name": "stdout",
          "text": [
            "Texto extraído (primeros 500 caracteres):\n",
            "© Los autores. Este artículo es publicado por la Revista del Instituto de investigación de la Facultad de minas, metalurgia y ciencias \n",
            "geográficas de la Universidad Nacional Mayor de San Marcos. Este es un artículo de acceso abierto, distribuido bajo los términos de la \n",
            "licencia Creative Commons Atribución 4.0 Internacional (CC BY 4.0) [https://creativecommons.org/licenses/by/4.0/deed.es] que permite \n",
            "el uso, distribución y reproducción en cualquier medio, siempre que la obra original sea debid\n"
          ]
        }
      ]
    },
    {
      "cell_type": "code",
      "source": [
        "# API key\n",
        "api_key = getpass(\"🔐 Ingresa tu API key de OpenAI: \").strip()\n",
        "client = OpenAI(api_key=api_key)"
      ],
      "metadata": {
        "colab": {
          "base_uri": "https://localhost:8080/"
        },
        "id": "1-AoUHsqjt9u",
        "outputId": "66bae56a-1739-44a5-bc83-0107bc73dab0"
      },
      "execution_count": null,
      "outputs": [
        {
          "name": "stdout",
          "output_type": "stream",
          "text": [
            "🔐 Ingresa tu API key de OpenAI: ··········\n"
          ]
        }
      ]
    },
    {
      "cell_type": "code",
      "source": [
        "#Paso 3: Crear el prompt limpio\n",
        "prompt_extraccion = f\"\"\"\n",
        "Eres un experto en políticas ambientales urbanas y análisis técnico de artículos científicos.\n",
        "\n",
        "A partir del texto extraído del artículo, devuelve un **JSON plano** que contenga exclusivamente la siguiente información clave:\n",
        "\n",
        "- Título del artículo\n",
        "- Autores\n",
        "- Año de publicación\n",
        "- Objetivo del estudio\n",
        "- Metodología empleada\n",
        "- Especies arbóreas estudiadas (si las hay)\n",
        "- Número total de parques evaluados\n",
        "- Criterios de clasificación de eficiencia de parques\n",
        "- Principales resultados (máximo 3 líneas)\n",
        "- Recomendaciones para la gestión urbana\n",
        "- Diagnóstico por distritos si se menciona (resumen en una línea por distrito)\n",
        "\n",
        "Devuelve **solo el bloque JSON**, sin explicaciones adicionales. No incluyas listas anidadas. Si algo no se menciona, déjalo como null.\n",
        "\n",
        "Texto del artículo:\n",
        "\\\"\\\"\\\"\n",
        "{articulo_texto}\n",
        "\\\"\\\"\\\"\n",
        "\"\"\"\n",
        "prompt_extraccion_ascii = limpiar_texto_ascii(prompt_extraccion)\n",
        "#\n",
        "respuesta_extraccion = client.chat.completions.create(\n",
        "    model=\"gpt-3.5-turbo\",\n",
        "    messages=[\n",
        "        {\"role\": \"system\", \"content\": \"Eres un experto en políticas ambientales urbanas y análisis técnico de artículos científicos.\"},\n",
        "        {\"role\": \"user\", \"content\": prompt_extraccion_ascii}\n",
        "    ],\n",
        "    temperature=0\n",
        ")\n",
        "\n",
        "# Extraer contenido y asegurarte que se imprimirá sin errores\n",
        "datos_extraidos = respuesta_extraccion.choices[0].message.content.strip()\n",
        "\n",
        "print(\"📋 Datos extraídos del artículo:\\n\")\n",
        "print(datos_extraidos.encode(\"utf-8\", errors=\"replace\").decode(\"utf-8\"))\n"
      ],
      "metadata": {
        "colab": {
          "base_uri": "https://localhost:8080/"
        },
        "id": "X8cwhJrtpry8",
        "outputId": "29e1ee20-e4fa-4671-e2eb-4529826b99de"
      },
      "execution_count": null,
      "outputs": [
        {
          "output_type": "stream",
          "name": "stdout",
          "text": [
            "📋 Datos extraídos del artículo:\n",
            "\n",
            "```json\n",
            "{\n",
            "    \"Titulo del articulo\": \"Cobertura arborea y captura de dioxido de carbono en los parques urbanos. Caso: Lima Norte\",\n",
            "    \"Autores\": [\"Walter Aparicio Arevalo Gomez\", \"Francisco Alejandro Alcantara Boza\"],\n",
            "    \"Ano de publicacion\": 2021,\n",
            "    \"Objetivo del estudio\": \"Determinar la relacion entre la cobertura arborea y la captura de dioxido de carbono en los parques urbanos de Lima Norte\",\n",
            "    \"Metodologia empleada\": \"Investigacion con enfoque cuantitativo y tipo correlacional, trabajo de campo y trabajo remoto utilizando el Software i-tree Canopy\",\n",
            "    \"Especies arboreas estudiadas\": null,\n",
            "    \"Numero total de parques evaluados\": 32,\n",
            "    \"Criterios de clasificacion de eficiencia de parques\": null,\n",
            "    \"Principales resultados\": \"Relacion positiva muy buena entre la cobertura arborea y la captura de carbono de los parques en Lima Norte. Volumen promedio de captura de dioxido de carbono de 0.34 CO2/m2-ano.\",\n",
            "    \"Recomendaciones para la gestion urbana\": \"Seleccionar especies adecuadas con menor requerimiento de agua y mayor capacidad de captura de CO2 para mejorar la funcionalidad de los parques urbanos.\",\n",
            "    \"Diagnostico por distritos\": \"Lima Norte presenta deficiencias en planificacion urbana con insuficientes areas verdes e inadecuada composicion de cobertura arborea. Distritos como Los Olivos, Comas, San Martin de Porres e Independencia muestran bajos volumenes de captura de CO2 en comparacion con otras ciudades.\"\n",
            "}\n",
            "```\n"
          ]
        }
      ]
    },
    {
      "cell_type": "code",
      "source": [
        "prompt_analisis = f\"\"\"\n",
        "A partir del texto extraído del artículo:\n",
        "\n",
        "{datos_extraidos}\n",
        "\n",
        "1. Nombre del parque (si está disponible)\n",
        "2. Distrito\n",
        "3. Área verde total en m²\n",
        "4. Porcentaje de cobertura vegetal\n",
        "5. Número de especies identificadas\n",
        "6. Especie predominante\n",
        "7. Estado de conservación (Bueno / Regular / Deficiente)\n",
        "8. Clasificación de eficiencia (Alta / Media / Baja) basada en relación m² por habitante y cobertura\n",
        "9. Recomendación óptima de especies adicionales (nativas o adaptadas) según clima y superficie\n",
        "10. Diagnóstico breve del parque o área (máximo 2 líneas)\n",
        "11. Indicador de cumplimiento de estándar OMS (9 m²/hab) (Sí / No)\n",
        "\"\"\"\n",
        "respuesta_analisis = client.chat.completions.create(\n",
        "    model=\"gpt-4\",\n",
        "    messages=[\n",
        "        {\"role\": \"user\", \"content\": prompt_analisis}\n",
        "    ],\n",
        "    temperature=0\n",
        ")\n",
        "\n",
        "print(respuesta_analisis.choices[0].message.content.strip())\n"
      ],
      "metadata": {
        "colab": {
          "base_uri": "https://localhost:8080/"
        },
        "id": "9lAxXTVT1ar5",
        "outputId": "b1d497fa-0fe1-41d2-dbcf-6774335b9857"
      },
      "execution_count": null,
      "outputs": [
        {
          "output_type": "stream",
          "name": "stdout",
          "text": [
            "El texto proporcionado no contiene información suficiente para responder a las preguntas. Sin embargo, basándonos en la estructura del texto, podemos inferir que la información podría presentarse de la siguiente manera:\n",
            "\n",
            "```json\n",
            "{\n",
            "    \"Nombre del parque\": \"Parque de la Amistad\",\n",
            "    \"Distrito\": \"Surco\",\n",
            "    \"Area verde total en m²\": 60000,\n",
            "    \"Porcentaje de cobertura vegetal\": 70,\n",
            "    \"Numero de especies identificadas\": 15,\n",
            "    \"Especie predominante\": \"Eucalipto\",\n",
            "    \"Estado de conservacion\": \"Bueno\",\n",
            "    \"Clasificacion de eficiencia\": \"Alta\",\n",
            "    \"Recomendacion optima de especies adicionales\": \"Molle, Tara, Algarrobo\",\n",
            "    \"Diagnostico breve del parque\": \"Parque bien conservado con alta cobertura vegetal y diversidad de especies. Cumple con el estándar OMS.\",\n",
            "    \"Indicador de cumplimiento de estandar OMS\": \"Si\"\n",
            "}\n",
            "```\n",
            "\n",
            "Por favor, proporciona la información correcta para cada parque o área verde para poder generar los datos correspondientes.\n"
          ]
        }
      ]
    },
    {
      "cell_type": "code",
      "source": [
        "datos_extraidos"
      ],
      "metadata": {
        "colab": {
          "base_uri": "https://localhost:8080/",
          "height": 123
        },
        "id": "C6vBR7RL2cvN",
        "outputId": "8acc0219-d1bd-4fa4-f70c-c8a2b3dbc4cc"
      },
      "execution_count": null,
      "outputs": [
        {
          "output_type": "execute_result",
          "data": {
            "text/plain": [
              "'```json\\n{\\n    \"Titulo del articulo\": \"Cobertura arborea y captura de dioxido de carbono en los parques urbanos. Caso: Lima Norte\",\\n    \"Autores\": [\"Walter Aparicio Arevalo Gomez\", \"Francisco Alejandro Alcantara Boza\"],\\n    \"Ano de publicacion\": 2021,\\n    \"Objetivo del estudio\": \"Determinar la relacion entre la cobertura arborea y la captura de dioxido de carbono en los parques urbanos de Lima Norte\",\\n    \"Metodologia empleada\": \"Investigacion con enfoque cuantitativo y tipo correlacional, trabajo de campo y trabajo remoto utilizando el Software i-tree Canopy\",\\n    \"Especies arboreas estudiadas\": null,\\n    \"Numero total de parques evaluados\": 32,\\n    \"Criterios de clasificacion de eficiencia de parques\": null,\\n    \"Principales resultados\": \"Relacion positiva muy buena entre la cobertura arborea y la captura de carbono de los parques en Lima Norte. Volumen promedio de captura de dioxido de carbono de 0.34 CO2/m2-ano.\",\\n    \"Recomendaciones para la gestion urbana\": \"Seleccionar especies adecuadas con menor requerimiento de agua y mayor capacidad de captura de CO2 para mejorar la funcionalidad de los parques urbanos.\",\\n    \"Diagnostico por distritos\": \"Lima Norte presenta deficiencias en planificacion urbana con insuficientes areas verdes e inadecuada composicion de cobertura arborea. Distritos como Los Olivos, Comas, San Martin de Porres e Independencia muestran bajos volumenes de captura de CO2 en comparacion con otras ciudades.\"\\n}\\n```'"
            ],
            "application/vnd.google.colaboratory.intrinsic+json": {
              "type": "string"
            }
          },
          "metadata": {},
          "execution_count": 16
        }
      ]
    },
    {
      "cell_type": "code",
      "source": [
        "print(\"🔎 Vista previa de datos_extraidos:\\n\")\n",
        "print(datos_extraidos)\n"
      ],
      "metadata": {
        "colab": {
          "base_uri": "https://localhost:8080/"
        },
        "id": "W8TyGTjW4_--",
        "outputId": "8275e1ec-0d52-4255-f61d-330190ef9932"
      },
      "execution_count": null,
      "outputs": [
        {
          "output_type": "stream",
          "name": "stdout",
          "text": [
            "🔎 Vista previa de datos_extraidos:\n",
            "\n",
            "```json\n",
            "{\n",
            "    \"Titulo del articulo\": \"Cobertura arborea y captura de dioxido de carbono en los parques urbanos. Caso: Lima Norte\",\n",
            "    \"Autores\": [\"Walter Aparicio Arevalo Gomez\", \"Francisco Alejandro Alcantara Boza\"],\n",
            "    \"Ano de publicacion\": 2021,\n",
            "    \"Objetivo del estudio\": \"Determinar la relacion entre la cobertura arborea y la captura de dioxido de carbono en los parques urbanos de Lima Norte\",\n",
            "    \"Metodologia empleada\": \"Investigacion con enfoque cuantitativo y tipo correlacional, trabajo de campo y trabajo remoto utilizando el Software i-tree Canopy\",\n",
            "    \"Especies arboreas estudiadas\": null,\n",
            "    \"Numero total de parques evaluados\": 32,\n",
            "    \"Criterios de clasificacion de eficiencia de parques\": null,\n",
            "    \"Principales resultados\": \"Relacion positiva muy buena entre la cobertura arborea y la captura de carbono de los parques en Lima Norte. Volumen promedio de captura de dioxido de carbono de 0.34 CO2/m2-ano.\",\n",
            "    \"Recomendaciones para la gestion urbana\": \"Seleccionar especies adecuadas con menor requerimiento de agua y mayor capacidad de captura de CO2 para mejorar la funcionalidad de los parques urbanos.\",\n",
            "    \"Diagnostico por distritos\": \"Lima Norte presenta deficiencias en planificacion urbana con insuficientes areas verdes e inadecuada composicion de cobertura arborea. Distritos como Los Olivos, Comas, San Martin de Porres e Independencia muestran bajos volumenes de captura de CO2 en comparacion con otras ciudades.\"\n",
            "}\n",
            "```\n"
          ]
        }
      ]
    },
    {
      "cell_type": "code",
      "source": [
        "import json\n",
        "import pandas as pd\n",
        "import re\n",
        "\n",
        "# Extraer el bloque JSON dentro del texto (evita errores por los backticks ```json)\n",
        "match = re.search(r\"\\{.*\\}\", datos_extraidos, re.DOTALL)\n",
        "if match:\n",
        "    json_cleaned = match.group(0)\n",
        "else:\n",
        "    print(\"⚠️ No se encontró un JSON válido en la respuesta.\")\n",
        "    json_cleaned = None\n",
        "\n"
      ],
      "metadata": {
        "id": "wS6MtZCQ2ezb"
      },
      "execution_count": null,
      "outputs": []
    },
    {
      "cell_type": "code",
      "source": [
        "if json_cleaned:\n",
        "    try:\n",
        "        datos_dict = json.loads(json_cleaned)  # convertir a diccionario\n",
        "        with open(\"articulo_extraido.json\", \"w\", encoding=\"utf-8\") as f:\n",
        "            json.dump(datos_dict, f, ensure_ascii=False, indent=2)\n",
        "        print(\"✅ JSON guardado como 'articulo_extraido.json'\")\n",
        "    except Exception as e:\n",
        "        print(\"❌ Error al guardar el archivo JSON:\", e)\n"
      ],
      "metadata": {
        "colab": {
          "base_uri": "https://localhost:8080/"
        },
        "id": "EQWIYboL5L-O",
        "outputId": "4ff48b2e-f815-4148-d2e2-0ef321a0b259"
      },
      "execution_count": null,
      "outputs": [
        {
          "output_type": "stream",
          "name": "stdout",
          "text": [
            "✅ JSON guardado como 'articulo_extraido.json'\n"
          ]
        }
      ]
    },
    {
      "cell_type": "code",
      "source": [
        "# Leer el JSON guardado y convertirlo a DataFrame\n",
        "with open(\"articulo_extraido.json\", \"r\", encoding=\"utf-8\") as f:\n",
        "    datos_dict = json.load(f)\n",
        "\n",
        "df = pd.DataFrame(datos_dict)\n",
        "print(\"DataFrame generado:\")\n",
        "print(df.head())\n"
      ],
      "metadata": {
        "colab": {
          "base_uri": "https://localhost:8080/"
        },
        "id": "1QDLknTk5SLS",
        "outputId": "4f4b4d98-d606-4e1a-d7b8-c44d6b892456"
      },
      "execution_count": null,
      "outputs": [
        {
          "output_type": "stream",
          "name": "stdout",
          "text": [
            "DataFrame generado:\n",
            "                                 Titulo del articulo  \\\n",
            "0  Cobertura arborea y captura de dioxido de carb...   \n",
            "1  Cobertura arborea y captura de dioxido de carb...   \n",
            "\n",
            "                              Autores  Ano de publicacion  \\\n",
            "0       Walter Aparicio Arevalo Gomez                2021   \n",
            "1  Francisco Alejandro Alcantara Boza                2021   \n",
            "\n",
            "                                Objetivo del estudio  \\\n",
            "0  Determinar la relacion entre la cobertura arbo...   \n",
            "1  Determinar la relacion entre la cobertura arbo...   \n",
            "\n",
            "                                Metodologia empleada  \\\n",
            "0  Investigacion con enfoque cuantitativo y tipo ...   \n",
            "1  Investigacion con enfoque cuantitativo y tipo ...   \n",
            "\n",
            "  Especies arboreas estudiadas  Numero total de parques evaluados  \\\n",
            "0                         None                                 32   \n",
            "1                         None                                 32   \n",
            "\n",
            "  Criterios de clasificacion de eficiencia de parques  \\\n",
            "0                                               None    \n",
            "1                                               None    \n",
            "\n",
            "                              Principales resultados  \\\n",
            "0  Relacion positiva muy buena entre la cobertura...   \n",
            "1  Relacion positiva muy buena entre la cobertura...   \n",
            "\n",
            "              Recomendaciones para la gestion urbana  \\\n",
            "0  Seleccionar especies adecuadas con menor reque...   \n",
            "1  Seleccionar especies adecuadas con menor reque...   \n",
            "\n",
            "                           Diagnostico por distritos  \n",
            "0  Lima Norte presenta deficiencias en planificac...  \n",
            "1  Lima Norte presenta deficiencias en planificac...  \n"
          ]
        }
      ]
    },
    {
      "cell_type": "code",
      "source": [
        "prompt_tabla_distritos = f\"\"\"\n",
        "A partir del texto del artículo, genera una tabla con los siguientes campos por distrito mencionado:\n",
        "\n",
        "- Distrito\n",
        "- Cobertura Verde (%), si se menciona\n",
        "- Eficiencia (Alta, Media, Baja), si se puede inferir\n",
        "- Cumple OMS (Sí/No), basado en cobertura mínima de 9 m²/hab si se puede inferir\n",
        "- Recomendaciones específicas para ese distrito (1 línea)\n",
        "\n",
        "Devuelve solo un bloque JSON plano como lista de diccionarios, por ejemplo:\n",
        "\n",
        "[\n",
        "  {{\n",
        "    \"Distrito\": \"San Juan de Lurigancho\",\n",
        "    \"Cobertura Verde (%)\": \"3%\",\n",
        "    \"Eficiencia\": \"Baja\",\n",
        "    \"Cumple OMS\": \"No\",\n",
        "    \"Recomendaciones\": \"Añadir molles, jacarandás, crear viveros\"\n",
        "  }},\n",
        "  ...\n",
        "]\n",
        "\n",
        "Texto del artículo:\n",
        "\\\"\\\"\\\"\n",
        "{articulo_texto}\n",
        "\\\"\\\"\\\"\n",
        "\"\"\"\n"
      ],
      "metadata": {
        "id": "CAurQkZQ70W9"
      },
      "execution_count": null,
      "outputs": []
    },
    {
      "cell_type": "code",
      "source": [
        "respuesta_tabla = client.chat.completions.create(\n",
        "    model=\"gpt-4\",\n",
        "    messages=[\n",
        "        {\"role\": \"system\", \"content\": \"Eres un analista ambiental experto en parques urbanos.\"},\n",
        "        {\"role\": \"user\", \"content\": prompt_tabla_distritos}\n",
        "    ],\n",
        "    temperature=0\n",
        ")\n",
        "\n",
        "tabla_distritos_json = respuesta_tabla.choices[0].message.content.strip()\n"
      ],
      "metadata": {
        "id": "eIAXESJR72Iq"
      },
      "execution_count": null,
      "outputs": []
    },
    {
      "cell_type": "code",
      "source": [
        "import json\n",
        "import pandas as pd\n",
        "\n",
        "# Extraer el JSON\n",
        "try:\n",
        "    tabla_distritos_data = json.loads(tabla_distritos_json)\n",
        "    df_distritos = pd.DataFrame(tabla_distritos_data)\n",
        "    print(df_distritos)\n",
        "except Exception as e:\n",
        "    print(\"Error al convertir JSON a DataFrame:\", e)\n"
      ],
      "metadata": {
        "colab": {
          "base_uri": "https://localhost:8080/"
        },
        "id": "rj_hIc5T7-He",
        "outputId": "8a85737f-69a1-4d55-f21f-d6995c669a42"
      },
      "execution_count": null,
      "outputs": [
        {
          "output_type": "stream",
          "name": "stdout",
          "text": [
            "               Distrito Cobertura Verde (%)       Eficiencia Cumple OMS  \\\n",
            "0         Puente Piedra     No especificado  No especificado         No   \n",
            "1         Independencia     No especificado  No especificado         No   \n",
            "2  San Martín de Porres     No especificado  No especificado         No   \n",
            "3            Los Olivos     No especificado  No especificado         No   \n",
            "4                 Comas     No especificado  No especificado         No   \n",
            "\n",
            "                                     Recomendaciones  \n",
            "0  Incrementar áreas verdes y mejorar la composic...  \n",
            "1  Incrementar áreas verdes y mejorar la composic...  \n",
            "2  Incrementar áreas verdes y mejorar la composic...  \n",
            "3  Incrementar áreas verdes y mejorar la composic...  \n",
            "4  Incrementar áreas verdes y mejorar la composic...  \n"
          ]
        }
      ]
    },
    {
      "cell_type": "markdown",
      "source": [
        " Para hacer una Evaluación para políticas públicas:\n",
        " ¿Cómo usar esta información?\n",
        "La salida puede utilizarse para:\n",
        "\n",
        "Elaborar mapas de diagnóstico urbano por distrito.\n",
        "\n",
        "Clasificar parques según eficiencia ambiental, con base en estándares como los de la OMS (9 m²/hab).\n",
        "\n",
        "Recomendar especies nativas según clima, superficie y cobertura vegetal.\n",
        "\n",
        "Identificar brechas en cobertura verde y tomar decisiones de inversión. como esta analizado en el codigo anterior(diagnostico por distrito)"
      ],
      "metadata": {
        "id": "Xw922iac8BdY"
      }
    }
  ]
}